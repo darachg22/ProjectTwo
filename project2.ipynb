{
 "cells": [
  {
   "cell_type": "markdown",
   "metadata": {},
   "source": [
    "#### Project 2"
   ]
  },
  {
   "cell_type": "markdown",
   "metadata": {},
   "source": [
    "For the purpose of this project I will be local at global warming trends via found Data from various sources and sythesised Data. I will be plotting, programming and displaying the data to me best abiilty. The project is broke into a number of sections with each containing its own references where necessary. A bibliography containing all of the relevant references formatted in the Harvard referencing style is found at the end. "
   ]
  },
  {
   "cell_type": "markdown",
   "metadata": {},
   "source": [
    "Contents  \n",
    "\n",
    "1: Analysis of CO2 vs Temperature Anomaly from 800kyrs – present.\n",
    "\n",
    "2: Examination of one other (paleo/modern) feature (CH4).\n",
    "\n",
    "3: Examination of Irish context.\n",
    "\n",
    "4: Fusing and analysing of Data with it being exported to csv and json formats\n",
    "\n",
    "5: Analysis of the data, the trends and the relationships between them.\n",
    "\n",
    "6: Prediction global temperature anomaly over next few decades using synthesised data and comparison of this published climate models if atmospheric CO2 trends continue.\n",
    "\n",
    "7: Comments on accelerated warming based on very latest features (e.g. temperature/polar-icecoverage)"
   ]
  },
  {
   "cell_type": "markdown",
   "metadata": {},
   "source": [
    "##### 1. Analysis of CO2 vs Temperature Anomaly from 800kyrs – present"
   ]
  },
  {
   "cell_type": "code",
   "execution_count": null,
   "metadata": {},
   "outputs": [],
   "source": [
    "import pandas as pd\n",
    "import matplotlib.pyplot as plt"
   ]
  },
  {
   "cell_type": "markdown",
   "metadata": {},
   "source": [
    "Section to load in Data. Not loading in the data correctly. I need to remove the headings from the data as it is loading them as headings. I need to remove four headings. Update-Headings removed and results shown.\n",
    "\n",
    "I decided to remove the columns needed and create seperate excel files one with C02 data and ages and one with Temp Data."
   ]
  },
  {
   "cell_type": "code",
   "execution_count": null,
   "metadata": {},
   "outputs": [],
   "source": [
    "df = pd.read_excel('C02 Data.xlsx')\n",
    "df.head()"
   ]
  },
  {
   "cell_type": "code",
   "execution_count": null,
   "metadata": {},
   "outputs": [],
   "source": [
    "plt.figure(figsize=(40, 12))\n",
    "plt.plot(df['EDC3_gas_a (yr)'], df['CO2 (ppmv)'], marker='o', linestyle='-')\n",
    "plt.xlabel('Age of Gas (years)')\n",
    "plt.ylabel('CO2 Concentration (ppmv)')\n",
    "plt.title('CO2 Concentration Over Time')\n",
    "plt.grid(True)\n",
    "plt.show()"
   ]
  },
  {
   "cell_type": "code",
   "execution_count": null,
   "metadata": {},
   "outputs": [],
   "source": [
    "import pandas as pd\n",
    "import matplotlib.pyplot as plt\n",
    "\n",
    "df = pd.read_excel('Temp Data.xlsx')\n",
    "df.head()"
   ]
  },
  {
   "cell_type": "code",
   "execution_count": null,
   "metadata": {},
   "outputs": [],
   "source": [
    "plt.figure(figsize=(40, 12))\n",
    "plt.plot(df['Temp Age'], df['Temp'], marker='o', linestyle='-')\n",
    "plt.xlabel('Temperature Age')\n",
    "plt.ylabel('Temperature')\n",
    "plt.title('Temperature Over Time')\n",
    "plt.grid(True)\n",
    "plt.show()"
   ]
  },
  {
   "cell_type": "markdown",
   "metadata": {},
   "source": [
    "#### 2. Examination of one other (paleo/modern) feature (CH4)"
   ]
  },
  {
   "cell_type": "markdown",
   "metadata": {},
   "source": [
    "After a number of attempts to load the data set from: https://www1.ncdc.noaa.gov/pub/data/paleo/icecore/antarctica/epica_domec/edc-ch4-2008.txt, I decided to try and skip the inital lines from the dataest. Before this I have tried to import it directly and python would not load the data correctly. I also tried, in a number of ways, to import the data into excel and it was putting the data into a single column and despite a number of efforts to import the data and transform it, it would not work. Finally, upon research I decided to try and use the orginal file but skip the opening introduction text until i reached the headings. Here I used 'skiprows=152' and printed the information. Once again, I had to keep going until I found the correct number (152). This so far has made the data usable. Please find the used code below, followed by the references. Much of this was also taught in the lectures throughout this course."
   ]
  },
  {
   "cell_type": "code",
   "execution_count": null,
   "metadata": {},
   "outputs": [],
   "source": [
    "import pandas as pd\n",
    "\n",
    "data_from_site = \"https://www1.ncdc.noaa.gov/pub/data/paleo/icecore/antarctica/epica_domec/edc-ch4-2008.txt\"\n",
    "\n",
    "df = pd.read_fwf(data_from_site, skiprows=153, header=None)\n",
    "\n",
    "print(df.head())"
   ]
  },
  {
   "cell_type": "markdown",
   "metadata": {},
   "source": [
    "When initially trying to create this plot, I faced a number of issues. The foremost of these seemed to be the plots being unintelligable. I then left what I had done and began other sections of the project. I then returned to this as I wondered if i exported the data from the site to a csv would it read it more correctly and make the data more usable. This wokred out as I used the following skeletons of code and previous learning to create the csv file. \n",
    "\n",
    "reference:\n",
    "\n",
    "https://www.freecodecamp.org/news/dataframe-to-csv-how-to-save-pandas-dataframes-by-exporting/#:~:text=to_csv()%20Method-,The%20.,format%20for%20storing%20tabular%20data. \n",
    "\n",
    "https://pandas.pydata.org/pandas-docs/version/0.20/generated/pandas.read_fwf.html"
   ]
  },
  {
   "cell_type": "code",
   "execution_count": null,
   "metadata": {},
   "outputs": [],
   "source": [
    "import pandas as pd\n",
    "\n",
    "data_from_site = \"https://www1.ncdc.noaa.gov/pub/data/paleo/icecore/antarctica/epica_domec/edc-ch4-2008.txt\"\n",
    "\n",
    "df = pd.read_fwf(data_from_site, skiprows=153, header=None)\n",
    "\n",
    "df.columns = ['depth', 'gas_age', 'ch4_mean', 'Sigma uncertainty', 'laboratory']\n",
    "\n",
    "info_needed = df[['gas_age', 'ch4_mean']]\n",
    "\n",
    "info_needed.to_csv('ch4_data.csv', index=False)\n"
   ]
  },
  {
   "cell_type": "code",
   "execution_count": null,
   "metadata": {},
   "outputs": [],
   "source": [
    "import pandas as pd\n",
    "import matplotlib.pyplot as plt\n",
    "\n",
    "#Data\n",
    "file= 'ch4_data.csv'\n",
    "df = pd.read_csv(file)\n",
    "\n",
    "#Columns\n",
    "df.columns = ['Gas Age', 'CH4 Mean']\n",
    "\n",
    "#Plot\n",
    "plt.figure(figsize=(40, 12))\n",
    "plt.plot(df['Gas Age'], df['CH4 Mean'], marker='o', color='blue', linestyle='-', linewidth=6)\n",
    "plt.title('Gas Age vs CH4 Mean')\n",
    "plt.xlabel('Gas Age')\n",
    "plt.ylabel('CH4 Mean')\n",
    "plt.grid(True)\n",
    "plt.show()\n"
   ]
  },
  {
   "cell_type": "markdown",
   "metadata": {},
   "source": [
    "References: \n",
    "\n",
    "https://www.listendata.com/2017/02/import-data-in-python.html#:~:text=You%20don't%20need%20to,CSV%20files%20stored%20in%20URL)\n",
    "\n",
    "\n",
    "https://stackoverflow.com/questions/49583256/skip-lines-in-a-text-file.&text=By%20specifying%20nrows%3D%20and%20usecols,number%20of%20rows%20and%20columns.  "
   ]
  },
  {
   "cell_type": "markdown",
   "metadata": {},
   "source": [
    "#### 3: Examination of Irish context"
   ]
  },
  {
   "cell_type": "markdown",
   "metadata": {},
   "source": [
    "Same code used. Grid added."
   ]
  },
  {
   "cell_type": "code",
   "execution_count": null,
   "metadata": {},
   "outputs": [],
   "source": [
    "import pandas as pd\n",
    "import matplotlib.pyplot as plt\n",
    "\n",
    "df = pd.read_csv('Irish_Data.csv')\n",
    "df.head()\n",
    "\n",
    "plt.figure(figsize=(10, 6))\n",
    "plt.scatter(df['Irish year'], df['Irish temp'], label='Yearly Temperatures', color='blue')\n",
    "plt.title('Irish Annual Temperatures')\n",
    "plt.xlabel('Year')\n",
    "plt.ylabel('Temperature (°C)')\n",
    "plt.legend()\n",
    "plt.grid(True)\n",
    "plt.show()\n"
   ]
  },
  {
   "cell_type": "markdown",
   "metadata": {},
   "source": [
    "References used: https://repository.library.noaa.gov/view/noaa/48993/noaa_48993_DS1.pdf\n",
    "\n",
    "https://towardsdatascience.com/weather-forecasting-with-machine-learning-using-python-55e90c346647"
   ]
  },
  {
   "cell_type": "markdown",
   "metadata": {},
   "source": [
    "#### 4: Fusing and analysing of Data with it being exported to csv and json formats"
   ]
  },
  {
   "cell_type": "markdown",
   "metadata": {},
   "source": [
    "Fuse and analyse data from various data sources and format fused data set as a pandas\n",
    "dataframe and export to csv and json formats\n"
   ]
  },
  {
   "cell_type": "code",
   "execution_count": null,
   "metadata": {},
   "outputs": [],
   "source": [
    "import pandas as pd"
   ]
  },
  {
   "cell_type": "markdown",
   "metadata": {},
   "source": [
    "Loading Data"
   ]
  },
  {
   "cell_type": "code",
   "execution_count": null,
   "metadata": {},
   "outputs": [],
   "source": [
    "#Import Data\n",
    "co2_data = pd.read_excel('C02 Data.xlsx')\n",
    "temp_data = pd.read_excel('Temp Data.xlsx')\n",
    "ch4_data = pd.read_csv('ch4_data.csv')\n",
    "irish_data = pd.read_csv('Irish_Data.csv')"
   ]
  },
  {
   "cell_type": "markdown",
   "metadata": {},
   "source": [
    "To merge the Data after a number of various attempts and problems to overcome regarding the column names, I ended up finding that I needed to merge the Data based on their indexes using 'pd.concat'. The merged Dataset was then sent to a "
   ]
  },
  {
   "cell_type": "code",
   "execution_count": null,
   "metadata": {},
   "outputs": [],
   "source": [
    "\n",
    "#Merge datasets based on index\n",
    "merged_df = pd.concat([co2_data, temp_data, ch4_data, irish_data], axis=1)\n",
    "\n",
    "#CSV\n",
    "merged_df.to_csv('merged_data.csv', index=False)\n",
    "\n",
    "#JSON\n",
    "merged_df.to_json('merged_data.json', orient='records')\n"
   ]
  },
  {
   "cell_type": "code",
   "execution_count": null,
   "metadata": {},
   "outputs": [],
   "source": [
    "merged_df.describe()"
   ]
  },
  {
   "cell_type": "markdown",
   "metadata": {},
   "source": [
    "Analysis of fused dataframe\n",
    "\n",
    "\n",
    "CO2 (ppmv): Mean CO2 concentration is approximately 230.84 ppmv. Standard deviation is around 27.57, showing some variability in the Data.Minimum CO2 concentration is 171.6 ppmv, and the maximum is 298.6 ppmv.\n",
    "\n",
    "\n",
    "Temp: Mean temperature is approximately -2.52°C. Standard deviation is about 3.46. Minimum temperature is -10.43°C, and the maximum is 3.04°C.\n",
    "\n",
    "CH4 mean: There are 123 non-null entries in this column.\n",
    "Mean CH4 concentration is not provided in the summary, but it is likely the average value of CH4.\n",
    "year:\n",
    "\n",
    "Irish Data: This column appears to represent the year. The data spans from 1900 to 2022. Mean temperature is approximately 9.73°C."
   ]
  },
  {
   "cell_type": "markdown",
   "metadata": {},
   "source": [
    "References: \n",
    "\n",
    "https://www.w3schools.com/python/pandas/ref_df_merge.asp \n",
    "\n",
    "https://pandas.pydata.org/docs/user_guide/merging.html\n",
    "\n",
    "https://edcarp.github.io/python-intermediate-esces/06-merging-data/index.html \n",
    "\n",
    "https://stackoverflow.com/questions/72192394/how-to-export-very-large-merged-dataframe \n",
    "\n",
    "https://datacarpentry.org/python-ecology-lesson/05-merging-data.html\n",
    "\n",
    "https://stackoverflow.com/questions/40468069/merge-two-dataframes-by-index\n",
    "\n",
    "https://pandas.pydata.org/docs/reference/api/pandas.DataFrame.to_json.html"
   ]
  },
  {
   "cell_type": "markdown",
   "metadata": {},
   "source": [
    "#### Bullet point 5"
   ]
  },
  {
   "cell_type": "markdown",
   "metadata": {},
   "source": [
    "#### 5: Analysis of the data, the trends and the relationships between them."
   ]
  },
  {
   "cell_type": "code",
   "execution_count": null,
   "metadata": {},
   "outputs": [],
   "source": [
    "import seaborn as sns\n",
    "import matplotlib.pyplot as plt\n",
    "\n",
    "sns.set(style=\"whitegrid\")\n",
    "\n",
    "#Histogram\n",
    "plt.figure(figsize=(12, 8))\n",
    "plt.subplot(2, 2, 1)\n",
    "sns.histplot(merged_df['CO2 (ppmv)'], bins=20, kde=True, color='skyblue')\n",
    "plt.title('CO2 Concentration Distribution')\n",
    "\n",
    "plt.subplot(2, 2, 2)\n",
    "sns.histplot(merged_df['Temp'], bins=20, kde=True, color='salmon')\n",
    "plt.title('Temperature Distribution')\n",
    "\n",
    "#Box Plots\n",
    "plt.subplot(2, 2, 3)\n",
    "sns.boxplot(x=merged_df['CO2 (ppmv)'], color='skyblue')\n",
    "plt.title('CO2 Concentration Box Plot')\n",
    "\n",
    "plt.subplot(2, 2, 4)\n",
    "sns.boxplot(x=merged_df['Temp'], color='salmon')\n",
    "plt.title('Temperature Box Plot')\n",
    "\n",
    "plt.tight_layout()\n",
    "plt.show()"
   ]
  },
  {
   "cell_type": "markdown",
   "metadata": {},
   "source": [
    "Below concerns the using of lag in comparing various points of th Data. Here I used the pandas function'.shift' to go to various points back in the Data to compare the Data."
   ]
  },
  {
   "cell_type": "code",
   "execution_count": null,
   "metadata": {},
   "outputs": [],
   "source": [
    "merged_df['CO2 (ppmv) Lag'] = merged_df['CO2 (ppmv)'].shift(1)\n",
    "merged_df['Temp Lag'] = merged_df['Temp'].shift(1)"
   ]
  },
  {
   "cell_type": "markdown",
   "metadata": {},
   "source": [
    "References used: \n",
    "\n",
    "https://pandas.pydata.org/docs/reference/api/pandas.DataFrame.shift.html\n",
    "\n",
    "https://www.geeksforgeeks.org/python-pandas-dataframe-shift/\n",
    "\n",
    "https://thenewstack.io/getting-started-with-python-and-geo-temporal-analysis/ "
   ]
  },
  {
   "cell_type": "code",
   "execution_count": null,
   "metadata": {},
   "outputs": [],
   "source": [
    "import seaborn as sns\n",
    "\n",
    "plt.figure(figsize=(12, 6))\n",
    "plt.subplot(1, 2, 1)\n",
    "sns.regplot(x='CO2 (ppmv) Lag', y='CO2 (ppmv)', data=merged_df, scatter_kws={'alpha':0.5})\n",
    "plt.title('CO2 vs CO2 Lag')\n",
    "\n",
    "plt.subplot(1, 2, 2)\n",
    "sns.regplot(x='Temp Lag', y='Temp', data=merged_df, scatter_kws={'alpha':0.5})\n",
    "plt.title('Temp vs Temp Lag')\n",
    "\n",
    "plt.tight_layout()\n",
    "plt.show()\n"
   ]
  },
  {
   "cell_type": "markdown",
   "metadata": {},
   "source": [
    "Analysis: \n",
    "\n",
    "Both show a positive slope meaning both are rising over time. When using varied lags the slope always remains positive."
   ]
  },
  {
   "cell_type": "markdown",
   "metadata": {},
   "source": [
    "Next shows a table of correlations of the data presented. "
   ]
  },
  {
   "cell_type": "code",
   "execution_count": null,
   "metadata": {},
   "outputs": [],
   "source": [
    "merged_df.corr('pearson')"
   ]
  },
  {
   "cell_type": "markdown",
   "metadata": {},
   "source": [
    "references: \n",
    "\n",
    "https://pandas.pydata.org/docs/reference/api/pandas.DataFrame.corr.\n",
    "\n",
    "https://www.geeksforgeeks.org/python-pandas-dataframe-corr/\n",
    "\n",
    "https://chem.libretexts.org/Courses/Lumen_Learning/Book%3A_Microeconomics-1_(Lumen)/03%3A_1-_Economic_Thinking/3.08%3A_Reading-_Interpreting_Slope"
   ]
  },
  {
   "cell_type": "markdown",
   "metadata": {},
   "source": [
    "#### 6: Prediction global temperature anomaly over next few decades using synthesised data and comparison of this published climate models if atmospheric CO2 trends continue.\n"
   ]
  },
  {
   "cell_type": "markdown",
   "metadata": {},
   "source": [
    "Plotting Linear Regression"
   ]
  },
  {
   "cell_type": "markdown",
   "metadata": {},
   "source": [
    "To first complete this section of the code I need to create a programme which computes the linear regression of the real life data used throughout this project. The following code was synthesised from the references/lecture material. The references were found throughout the code. "
   ]
  },
  {
   "cell_type": "markdown",
   "metadata": {},
   "source": [
    "Libraries used:"
   ]
  },
  {
   "cell_type": "code",
   "execution_count": null,
   "metadata": {},
   "outputs": [],
   "source": [
    "import pandas as pd\n",
    "import matplotlib.pyplot as plt\n",
    "from sklearn.model_selection import train_test_split\n",
    "from sklearn.linear_model import LinearRegression"
   ]
  },
  {
   "cell_type": "markdown",
   "metadata": {},
   "source": [
    "importing dataframes from co2 data and temp data."
   ]
  },
  {
   "cell_type": "code",
   "execution_count": null,
   "metadata": {},
   "outputs": [],
   "source": [
    "#CO2 \n",
    "CO2_df = pd.read_excel('C02 Data.xlsx')\n",
    "\n",
    "#Temp\n",
    "temp_df = pd.read_excel('Temp Data.xlsx')"
   ]
  },
  {
   "cell_type": "markdown",
   "metadata": {},
   "source": [
    "When creating this code there was consistant issues. One of the most prominant, besides further column name difficlulties, was the temperature data. After much consideriation and troubleshooting, It appeared it was due to the fact that temp age was in float form and not integer which does not work for and linear regression. I use '.astype(in)', a code I used a number of times before in my programming module last year to rectify the type. "
   ]
  },
  {
   "cell_type": "code",
   "execution_count": null,
   "metadata": {},
   "outputs": [],
   "source": [
    "#Temp Age to int\n",
    "temp_df['Temp Age'] = temp_df['Temp Age'].astype(int)"
   ]
  },
  {
   "cell_type": "markdown",
   "metadata": {},
   "source": [
    "Here, based on previous code used in the project to fuse and create a file, I created this section to do the ame. Again, I found issues with the column names but once they were created the code worked well. "
   ]
  },
  {
   "cell_type": "code",
   "execution_count": null,
   "metadata": {},
   "outputs": [],
   "source": [
    "#Merge the datasets\n",
    "merged_df = pd.merge(CO2_df, temp_df, left_on='EDC3_gas_a (yr)', right_on='Temp Age', how='inner')\n"
   ]
  },
  {
   "cell_type": "markdown",
   "metadata": {},
   "source": [
    "The code would not load in and upon several tries it was the empty values found within the merged dataset that caused the problem. The following code I had encountered accidently encountered and the '.dropna()' removed the empty values from the code which made it work. "
   ]
  },
  {
   "cell_type": "code",
   "execution_count": null,
   "metadata": {},
   "outputs": [],
   "source": [
    "#Get rid of rows with NaN values\n",
    "merged_df = merged_df.dropna()"
   ]
  },
  {
   "cell_type": "markdown",
   "metadata": {},
   "source": [
    "This next section was formed to create the linear progression that is then plotted. the first section merges the c02 data and the temp data which is then seperated in order to perform the Train_test_split command in order to create reusable data for the linear progression. Next linear progression is brought in from the scikit library as 'model' followed by model.fit estimator. Finally the predictions section using the linear regression is created."
   ]
  },
  {
   "cell_type": "code",
   "execution_count": null,
   "metadata": {},
   "outputs": [],
   "source": [
    "#merged Data\n",
    "co2 = merged_df[['CO2 (ppmv)']]\n",
    "temp = merged_df['Temp']\n",
    "\n",
    "#Split the data into training and testing sets\n",
    "co2_train, co2_test, temp_train, temp_test = train_test_split(co2, temp, test_size=0.2, random_state=1)\n",
    "\n",
    "#linear regression model\n",
    "model = LinearRegression()\n",
    "model.fit(co2_train, temp_train)\n",
    "\n",
    "#Predictions\n",
    "temp_pred = model.predict(co2_test)\n"
   ]
  },
  {
   "cell_type": "markdown",
   "metadata": {},
   "source": [
    "References: \n",
    "\n",
    "https://www.machinelearningnuggets.com/python-linear-regression/#models-provided-by-scikit-learn\n",
    "\n",
    "https://scikit-learn.org/stable/modules/generated/sklearn.model_selection.train_test_split.html\n",
    "\n",
    "https://www.machinelearningnuggets.com/python-linear-regression/#models-provided-by-scikit-learn\n",
    "\n",
    "https://pandas.pydata.org/docs/user_guide/merging.html\n",
    "\n",
    "https://datatofish.com/dropna/"
   ]
  },
  {
   "cell_type": "markdown",
   "metadata": {},
   "source": [
    "Plotting of Data"
   ]
  },
  {
   "cell_type": "code",
   "execution_count": null,
   "metadata": {},
   "outputs": [],
   "source": [
    "#Plot\n",
    "plt.figure(figsize=(10, 6))\n",
    "plt.scatter(co2_test, temp_test, color='blue', label='Actual Data')\n",
    "plt.plot(co2_test, temp_pred, color='red', linewidth=2, label='Linear Regression')\n",
    "plt.xlabel('CO2 Concentration (ppmv)')\n",
    "plt.ylabel('Temperature (°C)')\n",
    "plt.title('Linear Regression: CO2 vs Temperature')\n",
    "plt.legend()\n",
    "plt.grid(True)\n",
    "plt.show()\n"
   ]
  },
  {
   "cell_type": "markdown",
   "metadata": {},
   "source": [
    "reference: "
   ]
  },
  {
   "cell_type": "markdown",
   "metadata": {},
   "source": [
    "References: \n",
    "\n",
    "https://realpython.com/linear-regression-in-python/ \n",
    "\n",
    "https://www.w3schools.com/python/python_ml_linear_regression.asp \n",
    "\n",
    "https://scikit-learn.org/stable/auto_examples/gaussian_process/plot_gpr_co2.html\n",
    "\n",
    "https://towardsdatascience.com/visualizing-climate-change-data-with-python-74ea5bac8756\n",
    "\n",
    "https://www.educative.io/blog/machine-learning-regression-models-with-python\n",
    "\n",
    "https://github.com/chinmaydas96/Monitoring-Global-Warming-with-Linear-Regression/blob/master/Global%2Bwarming.py \n",
    "\n",
    "https://scikit-learn.org/stable/auto_examples/gaussian_process/plot_gpr_co2.html"
   ]
  },
  {
   "cell_type": "markdown",
   "metadata": {},
   "source": [
    "#### 7: Comments on accelerated warming based on very latest features (e.g. temperature/polar-icecoverage)"
   ]
  },
  {
   "cell_type": "markdown",
   "metadata": {},
   "source": [
    "https://www.scirp.org/journal/paperinformation?paperid=86337 "
   ]
  }
 ],
 "metadata": {
  "kernelspec": {
   "display_name": "Python 3",
   "language": "python",
   "name": "python3"
  },
  "language_info": {
   "codemirror_mode": {
    "name": "ipython",
    "version": 3
   },
   "file_extension": ".py",
   "mimetype": "text/x-python",
   "name": "python",
   "nbconvert_exporter": "python",
   "pygments_lexer": "ipython3",
   "version": "3.10.11"
  }
 },
 "nbformat": 4,
 "nbformat_minor": 2
}
