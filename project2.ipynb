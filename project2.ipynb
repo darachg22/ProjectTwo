{
 "cells": [
  {
   "cell_type": "markdown",
   "metadata": {},
   "source": [
    "#### Project 2"
   ]
  },
  {
   "cell_type": "markdown",
   "metadata": {},
   "source": [
    "##### Bullet Point 1: Analyse CO2 vs Temperature Anomaly from 800kyrs – present"
   ]
  },
  {
   "cell_type": "code",
   "execution_count": null,
   "metadata": {},
   "outputs": [],
   "source": [
    "import pandas as pd\n",
    "import matplotlib.pyplot as plt"
   ]
  },
  {
   "cell_type": "markdown",
   "metadata": {},
   "source": [
    "Section to load in Data. Not loading in the data correctly. I need to remove the headings from the data as it is loading them as headings. I need to remove four headings. Update-Headings removed and results shown.\n",
    "\n",
    "I decided to remove the columns needed and create seperate excel files one with C02 data and ages and one with Temp Data."
   ]
  },
  {
   "cell_type": "code",
   "execution_count": null,
   "metadata": {},
   "outputs": [],
   "source": [
    "df = pd.read_excel('C02 Data.xlsx')\n",
    "df.head()"
   ]
  },
  {
   "cell_type": "code",
   "execution_count": null,
   "metadata": {},
   "outputs": [],
   "source": [
    "plt.figure(figsize=(10, 6))\n",
    "plt.plot(df['EDC3_gas_a (yr)'], df['CO2 (ppmv)'], marker='o', linestyle='-')\n",
    "plt.xlabel('Age of Gas (years)')\n",
    "plt.ylabel('CO2 Concentration (ppmv)')\n",
    "plt.title('CO2 Concentration Over Time')\n",
    "plt.grid(True)\n",
    "plt.show()"
   ]
  },
  {
   "cell_type": "code",
   "execution_count": null,
   "metadata": {},
   "outputs": [],
   "source": [
    "import pandas as pd\n",
    "import matplotlib.pyplot as plt\n",
    "\n",
    "df = pd.read_excel('Temp Data.xlsx')\n",
    "df.head()"
   ]
  },
  {
   "cell_type": "code",
   "execution_count": null,
   "metadata": {},
   "outputs": [],
   "source": [
    "plt.figure(figsize=(10, 6))\n",
    "plt.plot(df['Temp Age'], df['Temp'], marker='o', linestyle='-')\n",
    "plt.xlabel('Temperature Age')\n",
    "plt.ylabel('Temperature')\n",
    "plt.title('Temperature Over Time')\n",
    "plt.grid(True)\n",
    "plt.show()"
   ]
  },
  {
   "cell_type": "markdown",
   "metadata": {},
   "source": [
    "Further plotting of both:"
   ]
  },
  {
   "cell_type": "markdown",
   "metadata": {},
   "source": [
    "CO2 vs Temperature Analysis"
   ]
  },
  {
   "cell_type": "markdown",
   "metadata": {},
   "source": [
    "##### Bullet Point 2"
   ]
  },
  {
   "cell_type": "markdown",
   "metadata": {},
   "source": [
    "Examine one other (paleo/modern) features (e.g. CH4 or polar ice-coverage)"
   ]
  },
  {
   "cell_type": "markdown",
   "metadata": {},
   "source": [
    "After a number of attempts to load the data set from: https://www1.ncdc.noaa.gov/pub/data/paleo/icecore/antarctica/epica_domec/edc-ch4-2008.txt, I decided to try and skip the inital lines from the dataest. Before this I have tried to import it directly and python would not load the data correctly. I also tried, in a number of ways, to import the data into excel and it was putting the data into a single column and despite a number of efforts to import the data and transform it, it would not work. Finally, upon research I decided to try and use the orginal file but skip the opening introduction text until i reached the headings. Here I used 'skiprows=152' and printed the information. Once again, I had to keep going until I found the correct number (152). This so far has made the data usable. Please find the used code below, followed by the references. Much of this was also taught in the lectures throughout this course."
   ]
  },
  {
   "cell_type": "code",
   "execution_count": null,
   "metadata": {},
   "outputs": [],
   "source": [
    "import pandas as pd\n",
    "\n",
    "data_from_site = \"https://www1.ncdc.noaa.gov/pub/data/paleo/icecore/antarctica/epica_domec/edc-ch4-2008.txt\"\n",
    "\n",
    "df = pd.read_fwf(data_from_site, skiprows=153, header=None)\n",
    "\n",
    "print(df.head())"
   ]
  },
  {
   "cell_type": "markdown",
   "metadata": {},
   "source": [
    "When initially trying to create this plot, I faced a number of issues. The foremost of these seemed to be the plots being unintelligable. I then left what I had done and began other sections of the project. I then returned to this as I wondered if i exported the data from the site to a csv would it read it more correctly and make the data more usable. This wokred out as I used the following skeletons of code and previous learning to create the csv file. \n",
    "\n",
    "reference:\n",
    "\n",
    "https://www.freecodecamp.org/news/dataframe-to-csv-how-to-save-pandas-dataframes-by-exporting/#:~:text=to_csv()%20Method-,The%20.,format%20for%20storing%20tabular%20data. \n",
    "\n",
    "https://pandas.pydata.org/pandas-docs/version/0.20/generated/pandas.read_fwf.html"
   ]
  },
  {
   "cell_type": "code",
   "execution_count": null,
   "metadata": {},
   "outputs": [],
   "source": [
    "import pandas as pd\n",
    "\n",
    "data_from_site = \"https://www1.ncdc.noaa.gov/pub/data/paleo/icecore/antarctica/epica_domec/edc-ch4-2008.txt\"\n",
    "\n",
    "df = pd.read_fwf(data_from_site, skiprows=153, header=None)\n",
    "\n",
    "df.columns = ['depth', 'gas_age', 'ch4_mean', 'Sigma uncertainty', 'laboratory']\n",
    "\n",
    "info_needed = df[['gas_age', 'ch4_mean']]\n",
    "\n",
    "info_needed.to_csv('ch4_data.csv', index=False)\n"
   ]
  },
  {
   "cell_type": "code",
   "execution_count": null,
   "metadata": {},
   "outputs": [],
   "source": [
    "import pandas as pd\n",
    "import matplotlib.pyplot as plt\n",
    "\n",
    "#Data\n",
    "file= 'ch4_data.csv'\n",
    "df = pd.read_csv(file)\n",
    "\n",
    "#Columns\n",
    "df.columns = ['Gas Age', 'CH4 Mean']\n",
    "\n",
    "#Plot\n",
    "plt.figure(figsize=(10, 6))\n",
    "plt.plot(df['Gas Age'], df['CH4 Mean'], marker='o', color='blue', linestyle='-', linewidth=2)\n",
    "plt.title('Gas Age vs CH4 Mean')\n",
    "plt.xlabel('Gas Age')\n",
    "plt.ylabel('CH4 Mean')\n",
    "plt.grid(True)\n",
    "plt.show()\n"
   ]
  },
  {
   "cell_type": "markdown",
   "metadata": {},
   "source": [
    "As the merging of datasets does not work for me later in on this project I have reeturned to this section to creat a csv data file to see if it will help with the issues I aim facing."
   ]
  },
  {
   "cell_type": "markdown",
   "metadata": {},
   "source": [
    "References: \n",
    "\n",
    "https://www.listendata.com/2017/02/import-data-in-python.html#:~:text=You%20don't%20need%20to,CSV%20files%20stored%20in%20URL)\n",
    "\n",
    "\n",
    "https://stackoverflow.com/questions/49583256/skip-lines-in-a-text-file.&text=By%20specifying%20nrows%3D%20and%20usecols,number%20of%20rows%20and%20columns.  "
   ]
  },
  {
   "cell_type": "markdown",
   "metadata": {},
   "source": [
    "Bullet point 3"
   ]
  },
  {
   "cell_type": "markdown",
   "metadata": {},
   "source": [
    "Examine Irish context"
   ]
  },
  {
   "cell_type": "markdown",
   "metadata": {},
   "source": [
    "Same code used. Grid added."
   ]
  },
  {
   "cell_type": "code",
   "execution_count": null,
   "metadata": {},
   "outputs": [],
   "source": [
    "import pandas as pd\n",
    "import matplotlib.pyplot as plt\n",
    "\n",
    "df = pd.read_csv('Irish_Data.csv')\n",
    "df.head()\n",
    "\n",
    "plt.figure(figsize=(10, 6))\n",
    "plt.scatter(df['year'], df['temp'], label='Yearly Temperatures', color='blue')\n",
    "plt.title('Irish Annual Temperatures')\n",
    "plt.xlabel('Year')\n",
    "plt.ylabel('Temperature (°C)')\n",
    "plt.legend()\n",
    "plt.grid(True)\n",
    "plt.show()\n"
   ]
  },
  {
   "cell_type": "markdown",
   "metadata": {},
   "source": [
    "References used: https://repository.library.noaa.gov/view/noaa/48993/noaa_48993_DS1.pdf\n",
    "\n",
    "https://towardsdatascience.com/weather-forecasting-with-machine-learning-using-python-55e90c346647"
   ]
  },
  {
   "cell_type": "markdown",
   "metadata": {},
   "source": [
    "Bullet Point 4"
   ]
  },
  {
   "cell_type": "markdown",
   "metadata": {},
   "source": [
    "Fuse and analyse data from various data sources and format fused data set as a pandas\n",
    "dataframe and export to csv and json formats\n"
   ]
  },
  {
   "cell_type": "code",
   "execution_count": null,
   "metadata": {},
   "outputs": [],
   "source": [
    "import pandas as pd"
   ]
  },
  {
   "cell_type": "markdown",
   "metadata": {},
   "source": [
    "Loading Data"
   ]
  },
  {
   "cell_type": "code",
   "execution_count": null,
   "metadata": {},
   "outputs": [],
   "source": [
    "#Import Data\n",
    "co2_data = pd.read_excel('C02 Data.xlsx')\n",
    "temp_data = pd.read_excel('Temp Data.xlsx')\n",
    "ch4_data = pd.read_csv('ch4_data.csv')\n",
    "irish_data = pd.read_csv('Irish_Data.csv')"
   ]
  },
  {
   "cell_type": "markdown",
   "metadata": {},
   "source": [
    "Fuse"
   ]
  },
  {
   "cell_type": "markdown",
   "metadata": {},
   "source": [
    "References: \n",
    "\n",
    "https://www.w3schools.com/python/pandas/ref_df_merge.asp \n",
    "\n",
    "https://pandas.pydata.org/docs/user_guide/merging.html\n",
    "\n",
    "https://edcarp.github.io/python-intermediate-esces/06-merging-data/index.html \n",
    "\n",
    "https://stackoverflow.com/questions/72192394/how-to-export-very-large-merged-dataframe "
   ]
  },
  {
   "cell_type": "markdown",
   "metadata": {},
   "source": [
    "#### Bullet point 5"
   ]
  },
  {
   "cell_type": "markdown",
   "metadata": {},
   "source": [
    "For all of the above variables, analyse the data, the trends and the relationships between\n",
    "them (temporal leads/lags/frequency analysis)."
   ]
  },
  {
   "cell_type": "code",
   "execution_count": null,
   "metadata": {},
   "outputs": [],
   "source": [
    "#temporal leads \n",
    "#https://thenewstack.io/getting-started-with-python-and-geo-temporal-analysis/ \n",
    "\n",
    "#lags\n",
    "\n",
    "#frequency analysis"
   ]
  },
  {
   "cell_type": "markdown",
   "metadata": {},
   "source": [
    "#### Bullet point 6"
   ]
  },
  {
   "cell_type": "markdown",
   "metadata": {},
   "source": [
    "Predict global temperature anomaly over next few decades (synthesise data) and compare to\n",
    "published climate models if atmospheric CO2 trends continue\n"
   ]
  },
  {
   "cell_type": "markdown",
   "metadata": {},
   "source": [
    "Plotting Linear Regression"
   ]
  },
  {
   "cell_type": "markdown",
   "metadata": {},
   "source": [
    "To first complete this section of the code I need to create a programme which computes the linear regression of the real life data used throughout this project. The following code was synthesised from the references/lecture material. The references were found throughout the code. "
   ]
  },
  {
   "cell_type": "markdown",
   "metadata": {},
   "source": [
    "Libraries used:"
   ]
  },
  {
   "cell_type": "code",
   "execution_count": null,
   "metadata": {},
   "outputs": [],
   "source": [
    "import pandas as pd\n",
    "import matplotlib.pyplot as plt\n",
    "from sklearn.model_selection import train_test_split\n",
    "from sklearn.linear_model import LinearRegression"
   ]
  },
  {
   "cell_type": "markdown",
   "metadata": {},
   "source": [
    "importing dataframes from co2 data and temp data."
   ]
  },
  {
   "cell_type": "code",
   "execution_count": null,
   "metadata": {},
   "outputs": [],
   "source": [
    "#CO2 \n",
    "CO2_df = pd.read_excel('C02 Data.xlsx')\n",
    "\n",
    "#Temp\n",
    "temp_df = pd.read_excel('Temp Data.xlsx')"
   ]
  },
  {
   "cell_type": "markdown",
   "metadata": {},
   "source": [
    "When creating this code there was consistant issues. One of the most prominant, besides further column name difficlulties, was the temperature data. After much consideriation and troubleshooting, It appeared it was due to the fact that temp age was in float form and not integer which does not work for and linear regression. I use '.astype(in)', a code I used a number of times before in my programming module last year to rectify the type. "
   ]
  },
  {
   "cell_type": "code",
   "execution_count": null,
   "metadata": {},
   "outputs": [],
   "source": [
    "#Temp Age to int\n",
    "temp_df['Temp Age'] = temp_df['Temp Age'].astype(int)"
   ]
  },
  {
   "cell_type": "markdown",
   "metadata": {},
   "source": [
    "Here, based on previous code used in the project to fuse and create a file, I created this section to do the ame. Again, I found issues with the column names but once they were created the code worked well. "
   ]
  },
  {
   "cell_type": "code",
   "execution_count": null,
   "metadata": {},
   "outputs": [],
   "source": [
    "#Merge the datasets\n",
    "merged_df = pd.merge(CO2_df, temp_df, left_on='EDC3_gas_a (yr)', right_on='Temp Age', how='inner')\n",
    "#https://pandas.pydata.org/docs/user_guide/merging.html"
   ]
  },
  {
   "cell_type": "markdown",
   "metadata": {},
   "source": [
    "The code would not load in and upon several tries it was the empty values found within the merged dataset that caused the problem. The following code I had encountered accidently encountered and the '.dropna()' removed the empty values from the code which made it work. "
   ]
  },
  {
   "cell_type": "code",
   "execution_count": null,
   "metadata": {},
   "outputs": [],
   "source": [
    "#Get rid of rows with NaN values\n",
    "merged_df = merged_df.dropna()\n",
    "#https://datatofish.com/dropna/"
   ]
  },
  {
   "cell_type": "markdown",
   "metadata": {},
   "source": [
    "This next section was formed to create the linear progression that is then plotted. the first section merges the c02 data and the temp data which is then seperated in order to perform the Train_test_split command in order to create reusable data for the linear progression. Next linear progression is brought in from the scikit library as 'model' followed by model.fit estimator. Finally the predictions section using the linear regression is created."
   ]
  },
  {
   "cell_type": "code",
   "execution_count": 53,
   "metadata": {},
   "outputs": [],
   "source": [
    "#merged Data\n",
    "co2 = merged_df[['CO2 (ppmv)']]\n",
    "temp = merged_df['Temp']\n",
    "\n",
    "#Split the data into training and testing sets\n",
    "co2_train, co2_test, temp_train, temp_test = train_test_split(co2, temp, test_size=0.2, random_state=1)\n",
    "\n",
    "#linear regression model\n",
    "model = LinearRegression()\n",
    "model.fit(co2_train, temp_train)\n",
    "\n",
    "#Predictions\n",
    "temp_pred = model.predict(co2_test)\n"
   ]
  },
  {
   "cell_type": "markdown",
   "metadata": {},
   "source": [
    "References for model and train_test_split: \n",
    "\n",
    "https://www.machinelearningnuggets.com/python-linear-regression/#models-provided-by-scikit-learn\n",
    "\n",
    "https://scikit-learn.org/stable/modules/generated/sklearn.model_selection.train_test_split.html\n",
    "\n",
    "#https://www.machinelearningnuggets.com/python-linear-regression/#models-provided-by-scikit-learn"
   ]
  },
  {
   "cell_type": "markdown",
   "metadata": {},
   "source": [
    "Plotting of Data"
   ]
  },
  {
   "cell_type": "code",
   "execution_count": null,
   "metadata": {},
   "outputs": [],
   "source": [
    "# Plot\n",
    "plt.figure(figsize=(10, 6))\n",
    "plt.scatter(co2_test, temp_test, color='blue', label='Actual Data')\n",
    "plt.plot(co2_test, temp_pred, color='red', linewidth=2, label='Linear Regression')\n",
    "plt.xlabel('CO2 Concentration (ppmv)')\n",
    "plt.ylabel('Temperature (°C)')\n",
    "plt.title('Linear Regression: CO2 vs Temperature')\n",
    "plt.legend()\n",
    "plt.grid(True)\n",
    "plt.show()\n"
   ]
  },
  {
   "cell_type": "markdown",
   "metadata": {},
   "source": [
    "Sythesise the data based on c02 and tempreature trends"
   ]
  },
  {
   "cell_type": "code",
   "execution_count": null,
   "metadata": {},
   "outputs": [],
   "source": []
  },
  {
   "cell_type": "markdown",
   "metadata": {},
   "source": [
    "References: \n",
    "\n",
    "https://realpython.com/linear-regression-in-python/ \n",
    "\n",
    "https://www.w3schools.com/python/python_ml_linear_regression.asp \n",
    "\n",
    "https://scikit-learn.org/stable/auto_examples/gaussian_process/plot_gpr_co2.html\n",
    "\n",
    "https://towardsdatascience.com/visualizing-climate-change-data-with-python-74ea5bac8756\n",
    "\n",
    "\n"
   ]
  },
  {
   "cell_type": "markdown",
   "metadata": {},
   "source": [
    "Global trends Copied Data set to possibly use later."
   ]
  },
  {
   "cell_type": "code",
   "execution_count": null,
   "metadata": {},
   "outputs": [],
   "source": [
    "#source copied from: https://towardsdatascience.com/visualizing-climate-change-data-with-python-74ea5bac8756\n",
    "\n",
    "import pandas as pd\n",
    "from matplotlib import pyplot as plt\n",
    "from matplotlib.animation import FuncAnimation\n",
    "import cartopy.crs as ccrs\n",
    "from cartopy.feature import NaturalEarthFeature\n",
    "import xarray as xr\n",
    "\n",
    "xr_df = xr.open_dataset('gistemp1200_GHCNv4_ERSSTv5.nc')\n",
    "xr_df\n",
    "\n",
    "#Downsample the time series to yearly frequency.\n",
    "climate = xr_df.resample(time='Y').mean()\n",
    "anomaly = climate['tempanomaly']\n",
    "\n",
    "#Creating a static image of the global temperature anomaly for a given year.\n",
    "cbar_kwargs = {\n",
    "    'orientation':'horizontal',\n",
    "    'fraction': 0.045,\n",
    "    'pad': 0.01,\n",
    "    'extend':'neither'\n",
    "}\n",
    "\n",
    "fig = plt.figure(figsize=(20,20))\n",
    "ax = fig.add_subplot(1,1,1, projection = ccrs.PlateCarree())\n",
    "ax.add_feature(NaturalEarthFeature('cultural', 'admin_0_countries', '10m'),\n",
    "                       facecolor='none', edgecolor='black')\n",
    "ax.set_extent([-150, 150, -55, 85])\n",
    "\n",
    "i=-1\n",
    "date =  pd.to_datetime(anomaly.isel(time=i)['time'].values)\n",
    "ax.set_title(\"Temperature Anomaly in \"+ str(date.year) + \" [°C]\")\n",
    "anomaly.isel(time=i).plot.imshow(ax=ax, add_labels=False, add_colorbar=True,\n",
    "               vmin=-4, vmax=4, cmap='coolwarm',\n",
    "               cbar_kwargs=cbar_kwargs, interpolation='bicubic')\n",
    "plt.savefig(\"global_map.png\", bbox_inches='tight', dpi=150)\n",
    "plt.show()\n",
    "\n",
    "#Creating a static image of the european temperature anomaly for a given year.\n",
    "cbar_kwargs = {\n",
    "    'orientation':'horizontal',\n",
    "    'fraction': 0.048,\n",
    "    'pad': 0.01,\n",
    "    'extend':'neither'\n",
    "}\n",
    "\n",
    "fig = plt.figure(figsize=(15,10))\n",
    "ax = fig.add_subplot(1,1,1, projection = ccrs.PlateCarree())\n",
    "ax.add_feature(NaturalEarthFeature('cultural', 'admin_0_countries', '10m'),\n",
    "                       facecolor='none', edgecolor='black')\n",
    "ax.set_extent([-11, 31, 34, 71])\n",
    "\n",
    "i=-1\n",
    "date =  pd.to_datetime(anomaly.isel(time=i)['time'].values)\n",
    "ax.set_title(\"Temperature Anomaly in \"+ str(date.year) + \" [°C]\")\n",
    "xr.plot.imshow(anomaly.isel(time=i), ax=ax, add_labels=False,\n",
    "                   vmin=-4, vmax=4, cmap='coolwarm', \n",
    "                   cbar_kwargs=cbar_kwargs, interpolation='bicubic')\n",
    "plt.savefig(\"european_map.png\", bbox_inches='tight', dpi=150)\n",
    "plt.show()\n",
    "\n",
    "#Creating an animation for 1950-2020 and saving it as an MP4 video.\n",
    "cbar_kwargs = {\n",
    "    'orientation':'horizontal',\n",
    "    'fraction': 0.048,\n",
    "    'pad': 0.01,\n",
    "    'extend':'neither'\n",
    "}\n",
    "\n",
    "fig = plt.figure(figsize=(15,15))\n",
    "fig.subplots_adjust(left=0.02, bottom=0.04, right=0.98, top=0.96)\n",
    "ax = fig.add_subplot(1,1,1, projection = ccrs.PlateCarree())\n",
    "ax.add_feature(NaturalEarthFeature('cultural', 'admin_0_countries', '10m'),\n",
    "              facecolor='none', edgecolor='black')\n",
    "ax.set_extent([-11, 31, 34, 71])\n",
    "\n",
    "image = anomaly.isel(time=0).plot.imshow(ax=ax, add_labels=False,\n",
    "                       vmin=-4, vmax=4, cmap='coolwarm', animated=True,\n",
    "                       cbar_kwargs=cbar_kwargs, interpolation='bicubic')\n",
    "\n",
    "def animate(t):\n",
    "    date =  pd.to_datetime(anomaly.sel(time=t)['time'].values)\n",
    "    ax.set_title(\"Temperature Anomaly in \" + str(date.year) + \" [°C]\")\n",
    "    ax.title.set_fontsize(18)\n",
    "    image.set_array(anomaly.sel(time=t))\n",
    "    return image\n",
    "\n",
    "ani = FuncAnimation(fig, animate, frames=anomaly['time'].values[-71:], blit=False)\n",
    "ani.save(\"animation.mp4\", fps=2, extra_args=['-vcodec','libx264', '-crf','15', '-preset','veryslow'])\n"
   ]
  },
  {
   "cell_type": "markdown",
   "metadata": {},
   "source": [
    "References: https://scikit-learn.org/stable/auto_examples/gaussian_process/plot_gpr_co2.html"
   ]
  },
  {
   "cell_type": "markdown",
   "metadata": {},
   "source": [
    "premade code for linear regression and global warming predictions found here: https://github.com/chinmaydas96/Monitoring-Global-Warming-with-Linear-Regression/blob/master/Global%2Bwarming.py "
   ]
  },
  {
   "cell_type": "code",
   "execution_count": null,
   "metadata": {},
   "outputs": [],
   "source": [
    "\n",
    "import pandas as pd\n",
    "import numpy as np\n",
    "import seaborn as sns\n",
    "import matplotlib.pyplot as plt\n",
    "\n",
    "#for static figures \n",
    "get_ipython().magic(u'matplotlib inline')\n",
    "\n",
    "# for interactive figures \n",
    "# %matplotlib notebook     \n",
    "\n",
    "\n",
    "# ## Load the Datasets and cleaning\n",
    "\n",
    "# [Link to global co2 dataset](http://data.okfn.org/data/core/co2-fossil-global) \n",
    "# \n",
    "# [Link to temperature datasets](http://data.okfn.org/data/core/global-temp)\n",
    "\n",
    "# In[2]:\n",
    "\n",
    "# co2 dataset\n",
    "\n",
    "co2_df = pd.read_csv('global_co2.csv')\n",
    "co2_df.head()\n",
    "\n",
    "\n",
    "# In[3]:\n",
    "\n",
    "# Cleaning the co2 datasts\n",
    "\n",
    "co2_df = co2_df[co2_df.Year > 1960]      # Keep data in 1960-2010 \n",
    "co2_df = co2_df.iloc[:,:2]               # Keep only total CO2  \n",
    "co2_df.columns = ['Year','CO2']          # renaming the column names \n",
    "co2_df = co2_df.reset_index(drop=True)   # reset index to 0 \n",
    "co2_df.head()\n",
    "\n",
    "\n",
    "# In[4]:\n",
    "\n",
    "# temperature dataset\n",
    "\n",
    "temp_df = pd.read_csv('annual_temp.csv')\n",
    "temp_df.head()\n",
    "\n",
    "\n",
    "# In[5]:\n",
    "\n",
    "# Cleaning temperature data\n",
    "\n",
    "temp_df = temp_df[temp_df.Source != 'GISTEMP']          # Keeping only one source 'GCAG'\n",
    "tempdf = temp_df.drop('Source',axis = 1,inplace=True)   # delete Source column \n",
    "temp_df = temp_df[temp_df.Year > 1960]                  # Keep data in 1960-2010 \n",
    "temp_df = temp_df[temp_df.Year < 2011]                  # Keep data in 1960-2010 \n",
    "temp_df = temp_df.reindex(index=temp_df.index[::-1])    # invert the columns\n",
    "temp_df.columns = ['Year','Temperature']                # rename column names  \n",
    "temp_df = temp_df.reset_index(drop=True)                # reset index to 0\n",
    "\n",
    "temp_df.tail()\n",
    "\n",
    "\n",
    "# ### concatenating  the datasets\n",
    "\n",
    "# In[6]:\n",
    "\n",
    "df = pd.concat([co2_df,temp_df.Temperature], axis=1)   # concatinate two datasets to one\n",
    "df.head()\n",
    "\n",
    "\n",
    "# In[7]:\n",
    "\n",
    "from mpl_toolkits.mplot3d import Axes3D             # matplotlib library for 3d plot \n",
    "fig = plt.figure()                                  \n",
    "fig.set_size_inches(12.5, 9.5)                      # setting figure size\n",
    "ax = fig.add_subplot(111, projection='3d')\n",
    "ax.scatter(xs= df['Year'],ys=df['Temperature'],zs = df['CO2']) # scatter plot\n",
    "ax.set_ylabel('Relative tempature'); ax.set_xlabel('Year'); ax.set_zlabel('CO2 Emissions (in million metric tons)')\n",
    "ax.view_init(10, -45)     # for setting the appropiate view \n",
    "\n",
    "\n",
    "# In[8]:\n",
    "\n",
    "# 2d plots\n",
    "fig = plt.figure()\n",
    "fig.set_size_inches(12.5, 9.5)\n",
    "\n",
    "plt.subplot(2, 1, 1)\n",
    "plt.plot(df['Year'],df['CO2'])\n",
    "plt.ylabel('CO2 Emissions (million metric tons)')\n",
    "\n",
    "plt.subplot(2, 1, 2)\n",
    "plt.plot(df['Year'],df['Temperature'])\n",
    "plt.xlabel('Year')\n",
    "plt.ylabel(\"Relative temperature change(in 'C)\")\n",
    "\n",
    "plt.show()\n",
    "\n",
    "\n",
    "# ## Linear regression\n",
    "\n",
    "# In[9]:\n",
    "\n",
    "from sklearn.linear_model import LinearRegression\n",
    "from sklearn.model_selection import train_test_split\n",
    "\n",
    "\n",
    "# In[10]:\n",
    "\n",
    "X = df.as_matrix(['Year'])                                           # feature as matrix\n",
    "y = df.as_matrix(['CO2','Temperature']).astype('float32')            # two labels as matrix \n",
    "\n",
    "X_train,X_test,y_train,y_test = train_test_split(X,y,test_size= 0.1)   # split the dataset with 10% test data \n",
    "\n",
    "\n",
    "# In[11]:\n",
    "\n",
    "reg = LinearRegression()                  # start the clasifier\n",
    "reg.fit(X_train,y_train)                  # fit the model\n",
    "\n",
    "\n",
    "# In[12]:\n",
    "\n",
    "print('Score :' ,reg.score(X_test.reshape(-1,1),y_test))    # Accuracy score on test data\n",
    "\n",
    "\n",
    "# In[13]:\n",
    "\n",
    "x_line = np.arange(1960,2050).reshape(-1,1)                 # lining Year upto 2050\n",
    "p = reg.predict(x_line).T                                   # predict the labels \n",
    "\n",
    "\n",
    "# ## 3d Plots\n",
    "\n",
    "# In[14]:\n",
    "\n",
    "fig2 = plt.figure()\n",
    "fig2.set_size_inches(12.5, 7.5)\n",
    "ax = fig2.add_subplot(111, projection='3d')\n",
    "ax.scatter(xs=df['Year'], ys=df['Temperature'], zs=df['CO2'])\n",
    "ax.set_ylabel(\"Relative tempature (in 'C)\"); ax.set_xlabel('Year'); ax.set_zlabel(\"CO2 Emissions ('in million metric tons'))\")\n",
    "ax.plot(xs=x_line, ys=p[1], zs=p[0], color='green')        # predicted line \n",
    "ax.view_init(10, -45)\n",
    "\n",
    "\n",
    "# ## projected 2d plot\n",
    "\n",
    "# In[15]:\n",
    "\n",
    "# 2d plots\n",
    "fig = plt.figure()\n",
    "fig.set_size_inches(12.5, 9.5)\n",
    "\n",
    "plt.subplot(2, 1, 1)\n",
    "plt.plot(df['Year'],df['CO2'],label='Given')\n",
    "plt.plot(x_line,p[0], color='green',label='Predicted')\n",
    "plt.ylabel('CO2 Emissions (million metric tons)')\n",
    "plt.legend()\n",
    "\n",
    "\n",
    "plt.subplot(2, 1, 2)\n",
    "plt.plot(df['Year'],df['Temperature'],label='Given')\n",
    "plt.plot(x_line,p[1], color='green',label='Predicted')\n",
    "plt.xlabel('Year')\n",
    "plt.ylabel(\"Relative temperature change(in 'C)\")\n",
    "plt.legend()\n",
    "\n",
    "plt.show()\n",
    "\n",
    "\n",
    "# # Don’t make our earth garbage; save it from global warming."
   ]
  },
  {
   "cell_type": "markdown",
   "metadata": {},
   "source": [
    "#### Bullet Point 7 "
   ]
  },
  {
   "cell_type": "markdown",
   "metadata": {},
   "source": [
    "Comment on accelerated warming based on very latest features (e.g. temperature/polar-icecoverage)"
   ]
  },
  {
   "cell_type": "markdown",
   "metadata": {},
   "source": [
    "https://www.scirp.org/journal/paperinformation?paperid=86337 "
   ]
  }
 ],
 "metadata": {
  "kernelspec": {
   "display_name": "Python 3",
   "language": "python",
   "name": "python3"
  },
  "language_info": {
   "codemirror_mode": {
    "name": "ipython",
    "version": 3
   },
   "file_extension": ".py",
   "mimetype": "text/x-python",
   "name": "python",
   "nbconvert_exporter": "python",
   "pygments_lexer": "ipython3",
   "version": "3.10.11"
  }
 },
 "nbformat": 4,
 "nbformat_minor": 2
}
